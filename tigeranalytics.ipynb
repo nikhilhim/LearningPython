{
  "metadata": {
    "language_info": {
      "codemirror_mode": {
        "name": "python",
        "version": 3
      },
      "file_extension": ".py",
      "mimetype": "text/x-python",
      "name": "python",
      "nbconvert_exporter": "python",
      "pygments_lexer": "ipython3",
      "version": "3.8"
    },
    "kernelspec": {
      "name": "python",
      "display_name": "Python (Pyodide)",
      "language": "python"
    }
  },
  "nbformat_minor": 4,
  "nbformat": 4,
  "cells": [
    {
      "cell_type": "markdown",
      "source": "Dictionaries_basics",
      "metadata": {}
    },
    {
      "cell_type": "code",
      "source": "#real life data ko represent krne ke liye list is not enough.\n#unordered collection of data & key value pairs are dictionaries\n\n#method 1 to create Dictionaries\nuser = {'name' : 'Nikhil', 'age': 29 , 'state' : 'Jharkhand'}\nprint(user)",
      "metadata": {
        "trusted": true
      },
      "execution_count": 7,
      "outputs": [
        {
          "name": "stdout",
          "text": "{'name': 'Nikhil', 'age': 29, 'state': 'Jharkhand'}\n",
          "output_type": "stream"
        }
      ]
    },
    {
      "cell_type": "code",
      "source": "# method 2\n\nuser1 = dict(name = 'Nikhil', age =29, state = 'Jharkhand')\nprint(user1)",
      "metadata": {
        "trusted": true
      },
      "execution_count": 56,
      "outputs": [
        {
          "name": "stdout",
          "text": "{'name': 'Nikhil', 'age': 29, 'state': 'Jharkhand'}\n",
          "output_type": "stream"
        }
      ]
    },
    {
      "cell_type": "code",
      "source": "# how to access data in dictionaries, we access data with the help of key \n#there is no indexing of unordered collection'\n#we can also use get method\nprint(user1.get('state'))\nprint(user1['name'])\nprint(user1['age'])",
      "metadata": {
        "trusted": true
      },
      "execution_count": 57,
      "outputs": [
        {
          "name": "stdout",
          "text": "Jharkhand\nNikhil\n29\n",
          "output_type": "stream"
        }
      ]
    },
    {
      "cell_type": "code",
      "source": "# what type of data dictionary can store \n#answer : anything\n\nuser_info = {\n'name1': 'Nikhil',\n 'name2' : 'nik',  \n'age' : 29,\n'state' : 'JH',\n'fav_movies' : ['12th Fail'],\n'fav_tune' : ['Darasal', 'laspas']    \n}\nprint (user_info)",
      "metadata": {
        "trusted": true
      },
      "execution_count": 61,
      "outputs": [
        {
          "name": "stdout",
          "text": "{'name1': 'Nikhil', 'name2': 'nik', 'age': 29, 'state': 'JH', 'fav_movies': ['12th Fail'], 'fav_tune': ['Darasal', 'laspas']}\n",
          "output_type": "stream"
        }
      ]
    },
    {
      "cell_type": "code",
      "source": "# how to add data into dictionaries\nuser_info['name'] = 'Mohit'\nprint(user_info)",
      "metadata": {
        "trusted": true
      },
      "execution_count": 30,
      "outputs": [
        {
          "name": "stdout",
          "text": "{'name1': 'Nikhil', 'name2': 'nik', 'age': 29, 'state': 'JH', 'fav_movies': ['12th Fail'], 'fav_tune': ['Darasal', 'laspas'], 'name': 'Mohit'}\n",
          "output_type": "stream"
        }
      ]
    },
    {
      "cell_type": "code",
      "source": "# in keyword and iterations in dictionary\n#in keyword will check if key or values exist in the dictionary\n\n#to check the keys use below  \nif 'name' in user_info:\n    print('present')\nelse:\n    print('not present')\n",
      "metadata": {
        "trusted": true
      },
      "execution_count": 32,
      "outputs": [
        {
          "name": "stdout",
          "text": "present\n",
          "output_type": "stream"
        }
      ]
    },
    {
      "cell_type": "code",
      "source": "#to check the values use below\n\nif 'Nikhilh' in user_info.values():\n    print('present')\nelse:\n    print('notpresent')",
      "metadata": {
        "trusted": true
      },
      "execution_count": 58,
      "outputs": [
        {
          "name": "stdout",
          "text": "notpresent\n",
          "output_type": "stream"
        }
      ]
    },
    {
      "cell_type": "code",
      "source": "# loops in dictionary\n#NOTE \n\nfor i in user_info.items():\n    print(i)",
      "metadata": {
        "trusted": true
      },
      "execution_count": 62,
      "outputs": [
        {
          "name": "stdout",
          "text": "('name1', 'Nikhil')\n('name2', 'nik')\n('age', 29)\n('state', 'JH')\n('fav_movies', ['12th Fail'])\n('fav_tune', ['Darasal', 'laspas'])\n",
          "output_type": "stream"
        }
      ]
    },
    {
      "cell_type": "code",
      "source": "#these are not list but we can iterate through dict values , we can not add or delete these dict_values\nuser_info_values = user_info.values()\nprint(user_info_values)\nuser_info_keys = user_info.keys()\nprint(user_info_keys)",
      "metadata": {
        "trusted": true
      },
      "execution_count": 41,
      "outputs": [
        {
          "name": "stdout",
          "text": "dict_values(['Nikhil', 'nik', 29, 'JH', ['12th Fail'], ['Darasal', 'laspas'], 'Mohit'])\ndict_keys(['name1', 'name2', 'age', 'state', 'fav_movies', 'fav_tune', 'name'])\n",
          "output_type": "stream"
        }
      ]
    },
    {
      "cell_type": "code",
      "source": "for i,j in user_info.items():\n    #print(f\" {i}  {j} \")\n    print(i)\n    print(j)\n          ",
      "metadata": {
        "trusted": true
      },
      "execution_count": 59,
      "outputs": [
        {
          "name": "stdout",
          "text": "name1\nNikhil\nname2\nnik\nage\n29\nstate\nJH\nfav_movies\n['12th Fail']\nfav_tune\n['Darasal', 'laspas']\nname\nMohit\n",
          "output_type": "stream"
        }
      ]
    },
    {
      "cell_type": "code",
      "source": "Company = {'GFG':10000, 'Hashd':2292, 'Infy': 200}\nv = list(Company.values())\nprint(v)\nk = list(Company.keys())\nprint(k)\nprint(k[v.index(max(v))])\n",
      "metadata": {
        "trusted": true
      },
      "execution_count": 64,
      "outputs": [
        {
          "name": "stdout",
          "text": "[10000, 2292, 200]\n['GFG', 'Hashd', 'Infy']\nGFG\n",
          "output_type": "stream"
        }
      ]
    },
    {
      "cell_type": "code",
      "source": "stock_market = {\n    'axis bank' : 5,\n    'airtel' : 10,\n    'Coal India': 10,\n    'ITC' : 1,\n    'TCS' : 3,\n    'LT' : 2,\n    'RIL' : 9,\n    'Kotak Bank' : 8,\n    'amex' : 11\n}\n# st=stock_market.items()\n# print(type(st))\n# for i,j in enumerate(st):\n#     print(i,j)\n# print(st)\nmaxValue = 0\nminValue = 1\nfor i in stock_market:\n    if stock_market[i] > maxValue:\n        maxValue = stock_market[i]\n        max1 = i\n    if stock_market[i] <= minValue:\n        minValue = stock_market[i]\n        min1 = i\n        \nprint((maxValue,max1))\nprint((minValue,min1))\n\n# for key,value in stock_market.items():\n#     if value == maxValue:\n#         print(key,value)\n        \n        \n        \n        \n        \n        \n        \n        \n        \n        \n        \n\n\n\n\n\n\n",
      "metadata": {
        "trusted": true
      },
      "execution_count": 57,
      "outputs": [
        {
          "name": "stdout",
          "text": "(11, 'amex')\n(1, 'ITC')\n",
          "output_type": "stream"
        }
      ]
    },
    {
      "cell_type": "code",
      "source": "st=stock_market.items()\nprint(st)\nfor i in (st):\n    \n print((i))",
      "metadata": {
        "trusted": true
      },
      "execution_count": 157,
      "outputs": [
        {
          "name": "stdout",
          "text": "dict_items([('axis bank', 5), ('airtel', 10), ('Coal India', 10), ('ITC', 1), ('TCS', 3), ('LT', 2), ('RIL', 9), ('Kotak Bank', 8), ('amex', 11)])\n('axis bank', 5)\n('airtel', 10)\n('Coal India', 10)\n('ITC', 1)\n('TCS', 3)\n('LT', 2)\n('RIL', 9)\n('Kotak Bank', 8)\n('amex', 11)\n",
          "output_type": "stream"
        }
      ]
    },
    {
      "cell_type": "code",
      "source": "sm= {\n    'axis bank' : 5,\n    'airtel' : 10,\n    'Coal India': 10,\n    'ITC' : 1,\n    'TCS' : 3,\n    'LT' : 2,\n    'RIL' : 9,\n    'Kotak Bank' : 8,\n    'amex' : 11\n}\nprint(sm)\nsm.keys()\nl=sorted(sm.keys())\nprint(l)\nfor i in l:\n    print(i,sm[i])\n\n\n\n",
      "metadata": {
        "trusted": true
      },
      "execution_count": 176,
      "outputs": [
        {
          "name": "stdout",
          "text": "{'axis bank': 5, 'airtel': 10, 'Coal India': 10, 'ITC': 1, 'TCS': 3, 'LT': 2, 'RIL': 9, 'Kotak Bank': 8, 'amex': 11}\n['Coal India', 'ITC', 'Kotak Bank', 'LT', 'RIL', 'TCS', 'airtel', 'amex', 'axis bank']\nCoal India 10\nITC 1\nKotak Bank 8\nLT 2\nRIL 9\nTCS 3\nairtel 10\namex 11\naxis bank 5\n",
          "output_type": "stream"
        }
      ]
    },
    {
      "cell_type": "code",
      "source": "sm= {\n    'Axis bank' : 5,\n    'Airtel' : 10,\n    'Coal India': 10,\n    'ITC' : 1,\n    'TCS' : 3,\n    'LT' : 2,\n    'RIL' : 9,\n    'Kotak Bank' : 8,\n    'Amex' : 11\n}\ns=0\nfor i in sm.items\nsorted(sm.items(), key=lambda x:x[1])\n",
      "metadata": {
        "trusted": true
      },
      "execution_count": 196,
      "outputs": [
        {
          "execution_count": 183,
          "output_type": "execute_result",
          "data": {
            "text/plain": "[('ITC', 1),\n ('LT', 2),\n ('TCS', 3),\n ('Axis bank', 5),\n ('Kotak Bank', 8),\n ('RIL', 9),\n ('Airtel', 10),\n ('Coal India', 10),\n ('Amex', 11)]"
          },
          "metadata": {}
        }
      ]
    },
    {
      "cell_type": "code",
      "source": "\nletterCounts= {\n    'Axis bank' : 5,\n    'Airtel' : 10,\n    'Coal India': 10,\n    'ITC' : 1,\n    'TCS' : 3,\n    'LT' : 2,\n    'RIL' : 9,\n    'Kotak Bank' : 8,\n    'Amex' : 11\n}\nmaximum = 0\nmax_key = None\nfor k in letterCounts:\n    if letterCounts[k] > maximum:\n        maximum = letterCounts[k]\n        m =k\n        \n\n\nprint((maximum,k))",
      "metadata": {
        "trusted": true
      },
      "execution_count": 70,
      "outputs": [
        {
          "name": "stdout",
          "text": "(11, 'Amex')\n",
          "output_type": "stream"
        }
      ]
    },
    {
      "cell_type": "code",
      "source": "\nletterCounts= {\n    'Axis bank' : 5,\n    'Airtel' : 10,\n    'Coal India': 10,\n    'ITC' : 1,\n    'TCS' : 3,\n    'LT' : 2,\n    'RIL' : 9,\n    'Kotak Bank' : 8,\n    'Amex' : 11\n}\nmax(sm.get())\nmaximum = 0\nmax_key = None\nfor k in letterCounts:\n    if letterCounts[k] > maximum:\n        \n        print(k)",
      "metadata": {
        "trusted": true
      },
      "execution_count": 207,
      "outputs": [
        {
          "ename": "<class 'TypeError'>",
          "evalue": "get expected at least 1 argument, got 0",
          "traceback": [
            "\u001b[0;31m---------------------------------------------------------------------------\u001b[0m",
            "\u001b[0;31mTypeError\u001b[0m                                 Traceback (most recent call last)",
            "Cell \u001b[0;32mIn[194], line 12\u001b[0m\n\u001b[1;32m      1\u001b[0m letterCounts\u001b[38;5;241m=\u001b[39m {\n\u001b[1;32m      2\u001b[0m     \u001b[38;5;124m'\u001b[39m\u001b[38;5;124mAxis bank\u001b[39m\u001b[38;5;124m'\u001b[39m : \u001b[38;5;241m5\u001b[39m,\n\u001b[1;32m      3\u001b[0m     \u001b[38;5;124m'\u001b[39m\u001b[38;5;124mAirtel\u001b[39m\u001b[38;5;124m'\u001b[39m : \u001b[38;5;241m10\u001b[39m,\n\u001b[0;32m   (...)\u001b[0m\n\u001b[1;32m     10\u001b[0m     \u001b[38;5;124m'\u001b[39m\u001b[38;5;124mAmex\u001b[39m\u001b[38;5;124m'\u001b[39m : \u001b[38;5;241m11\u001b[39m\n\u001b[1;32m     11\u001b[0m }\n\u001b[0;32m---> 12\u001b[0m \u001b[38;5;28mmax\u001b[39m(\u001b[43msm\u001b[49m\u001b[38;5;241;43m.\u001b[39;49m\u001b[43mget\u001b[49m\u001b[43m(\u001b[49m\u001b[43m)\u001b[49m)\n\u001b[1;32m     13\u001b[0m maximum \u001b[38;5;241m=\u001b[39m \u001b[38;5;241m0\u001b[39m\n\u001b[1;32m     14\u001b[0m max_key \u001b[38;5;241m=\u001b[39m \u001b[38;5;28;01mNone\u001b[39;00m\n",
            "\u001b[0;31mTypeError\u001b[0m: get expected at least 1 argument, got 0"
          ],
          "output_type": "error"
        }
      ]
    },
    {
      "cell_type": "code",
      "source": "temp_tuple = {\n    'A': 1,\n    'B': 3,\n    'C': 1\n}\nmax1=0\nfor i in temp_tuple:\n    if temp_tuple[i]>max1:\n        max1=temp_tuple[i]\n        print(max1)\n\n",
      "metadata": {
        "trusted": true
      },
      "execution_count": 19,
      "outputs": [
        {
          "name": "stdout",
          "text": "1\n3\n",
          "output_type": "stream"
        }
      ]
    },
    {
      "cell_type": "code",
      "source": "temp_tuple = {\n    'A': 1,\n    'B': 3,\n    'C': 1\n}\nmax1=0\nfor i in temp_tuple:\n    if temp_tuple[i]>max1:\n        max1=temp_tuple[i]\n        m=i\nprint((max1,m))\nprint(m)\n ",
      "metadata": {
        "trusted": true
      },
      "execution_count": 59,
      "outputs": [
        {
          "name": "stdout",
          "text": "(3, 'B')\nB\n",
          "output_type": "stream"
        }
      ]
    },
    {
      "cell_type": "code",
      "source": "candidate_details = [('John',168),('Joseph',160),('Arun',187),('Vishal',174),('Nikhil',199)]\ncandidate_details.sort(key=lambda x:x[1],reverse= True)\nprint(candidate_details)\n\n\n\n",
      "metadata": {
        "trusted": true
      },
      "execution_count": 67,
      "outputs": [
        {
          "name": "stdout",
          "text": "[('Nikhil', 199), ('Arun', 187), ('Vishal', 174), ('John', 168), ('Joseph', 160)]\n",
          "output_type": "stream"
        }
      ]
    },
    {
      "cell_type": "code",
      "source": "str1= \"Now a days big data analytics is useful right\"\nstr2 = str1.split()\nmax = 0\nfor i in str2:\n    if len(i)>max:\n        max=len(i)\n        maxword=i\nprint(\"the longest word is - \" ,maxword,\":\", max) ",
      "metadata": {
        "trusted": true
      },
      "execution_count": 69,
      "outputs": [
        {
          "name": "stdout",
          "text": "the longest word is -  analytics : 9\n",
          "output_type": "stream"
        }
      ]
    },
    {
      "cell_type": "code",
      "source": " ",
      "metadata": {},
      "execution_count": null,
      "outputs": []
    }
  ]
}