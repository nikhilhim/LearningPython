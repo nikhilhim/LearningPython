{
  "metadata": {
    "language_info": {
      "codemirror_mode": {
        "name": "python",
        "version": 3
      },
      "file_extension": ".py",
      "mimetype": "text/x-python",
      "name": "python",
      "nbconvert_exporter": "python",
      "pygments_lexer": "ipython3",
      "version": "3.8"
    },
    "kernelspec": {
      "name": "python",
      "display_name": "Python (Pyodide)",
      "language": "python"
    }
  },
  "nbformat_minor": 4,
  "nbformat": 4,
  "cells": [
    {
      "cell_type": "markdown",
      "source": "For loop basics\n",
      "metadata": {}
    },
    {
      "cell_type": "code",
      "source": "# color variable now stores Red Green and Yellow in each line\ncolors = ['Red', 'Green', 'Yello']\nfor color in colors:\n    print(color)",
      "metadata": {
        "trusted": true
      },
      "execution_count": 2,
      "outputs": [
        {
          "name": "stdout",
          "text": "Red\nGreen\nYello\n",
          "output_type": "stream"
        }
      ]
    },
    {
      "cell_type": "code",
      "source": "# now to print each letter in color variable \ncolors = ['Red', 'Green', 'Yello']\nfor color in colors:\n    print(color)\n    for i in color:\n        print(i)",
      "metadata": {
        "trusted": true
      },
      "execution_count": 5,
      "outputs": [
        {
          "name": "stdout",
          "text": "Red\nR\ne\nd\nGreen\nG\nr\ne\ne\nn\nYello\nY\ne\nl\nl\no\n",
          "output_type": "stream"
        }
      ]
    },
    {
      "cell_type": "code",
      "source": "#if you print the colors only then it will print the no. of times the  elements are present \ncolors = ['red','green','blue']\nfor color in colors:\n    print(colors)",
      "metadata": {
        "trusted": true
      },
      "execution_count": 6,
      "outputs": [
        {
          "name": "stdout",
          "text": "['red', 'green', 'blue']\n['red', 'green', 'blue']\n['red', 'green', 'blue']\n",
          "output_type": "stream"
        }
      ]
    },
    {
      "cell_type": "code",
      "source": "#uses of for loop\nfor i in range(5):\n    print(i)\n    \nfor i in range(1,6):\n    print(i)\n\nfor i in range(1,4):\n    print(\"welcome\")\n\nfor i in range(1,6,2):\n    print(i)\n    ",
      "metadata": {
        "trusted": true
      },
      "execution_count": 19,
      "outputs": [
        {
          "name": "stdout",
          "text": "0\n1\n2\n3\n4\n1\n2\n3\n4\n5\nwelcome\nwelcome\nwelcome\n1\n3\n5\n",
          "output_type": "stream"
        }
      ]
    },
    {
      "cell_type": "code",
      "source": "num = [1,2,3,4,7,8,3]\nnew = list(map(lambda x: x*x*x,num))\nprint(new)",
      "metadata": {
        "trusted": true
      },
      "execution_count": 22,
      "outputs": [
        {
          "name": "stdout",
          "text": "[1, 8, 27, 64, 343, 512, 27]\n",
          "output_type": "stream"
        }
      ]
    },
    {
      "cell_type": "code",
      "source": "for i in range(4):\n     for j in range(4):\n            if j==i:\n                break\n             print(i,j)",
      "metadata": {
        "trusted": true
      },
      "execution_count": null,
      "outputs": []
    },
    {
      "cell_type": "code",
      "source": "\nlst = []\nn = int(input())\nfor i in range(n):\n    # writing cmd=input().split() will read the input and store the values in cmd variable\n    cmd = input().split()\n    if cmd[0]=='insert':\n       lst.insert(int(cmd[1]),int(cmd[2]))\n    elif cmd[0]=='remove': \n       lst.remove(int(cmd[1])) \n    elif cmd[0]=='append':\n        lst.append(int(cmd[1]))       \n    print(lst)\n    \n    ",
      "metadata": {
        "trusted": true
      },
      "execution_count": 34,
      "outputs": [
        {
          "ename": "<class 'TypeError'>",
          "evalue": "int() argument must be a string, a bytes-like object or a real number, not 'PyodideFuture'",
          "traceback": [
            "\u001b[0;31m---------------------------------------------------------------------------\u001b[0m",
            "\u001b[0;31mTypeError\u001b[0m                                 Traceback (most recent call last)",
            "Cell \u001b[0;32mIn[33], line 2\u001b[0m\n\u001b[1;32m      1\u001b[0m lst \u001b[38;5;241m=\u001b[39m []\n\u001b[0;32m----> 2\u001b[0m n \u001b[38;5;241m=\u001b[39m \u001b[38;5;28;43mint\u001b[39;49m\u001b[43m(\u001b[49m\u001b[38;5;28;43minput\u001b[39;49m\u001b[43m(\u001b[49m\u001b[43m)\u001b[49m\u001b[43m)\u001b[49m\n\u001b[1;32m      3\u001b[0m \u001b[38;5;28;01mfor\u001b[39;00m i \u001b[38;5;129;01min\u001b[39;00m \u001b[38;5;28mrange\u001b[39m(n):\n\u001b[1;32m      4\u001b[0m     \u001b[38;5;66;03m# writing cmd=input().split() will read the input and store the values in cmd variable\u001b[39;00m\n\u001b[1;32m      5\u001b[0m     cmd \u001b[38;5;241m=\u001b[39m \u001b[38;5;28minput\u001b[39m()\u001b[38;5;241m.\u001b[39msplit()\n",
            "\u001b[0;31mTypeError\u001b[0m: int() argument must be a string, a bytes-like object or a real number, not 'PyodideFuture'"
          ],
          "output_type": "error"
        },
        {
          "output_type": "stream",
          "name": "stdin",
          "text": " 5\n"
        }
      ]
    },
    {
      "cell_type": "code",
      "source": "#this swapcase method will reverse the upper to lower and vice versa \nstring1 = \"My PortFolio will become hugE\"\nstring2 = string1.swapcase()\nprint(string2)",
      "metadata": {
        "trusted": true
      },
      "execution_count": 36,
      "outputs": [
        {
          "name": "stdout",
          "text": "mY pORTfOLIO WILL BECOME HUGe\n",
          "output_type": "stream"
        }
      ]
    },
    {
      "cell_type": "code",
      "source": "#split string and join by hyphen between them \n\na = \"this is a string\"\nx = a.split(\" \")\nprint(x)\n",
      "metadata": {
        "trusted": true
      },
      "execution_count": 47,
      "outputs": [
        {
          "name": "stdout",
          "text": "['this', 'is', 'a', 'string']\n",
          "output_type": "stream"
        }
      ]
    },
    {
      "cell_type": "code",
      "source": "#split string and join by hyphen between them \n\na = \"this is a string\"\nx = a.split()\ny = \"-\".join(x)\nprint(y)",
      "metadata": {
        "trusted": true
      },
      "execution_count": 43,
      "outputs": [
        {
          "name": "stdout",
          "text": "this-is-a-string\n",
          "output_type": "stream"
        }
      ]
    },
    {
      "cell_type": "code",
      "source": "#mutation and using join function in python. so string is an immutable data type in python so we have to convert it to list and thenmove ahead\nstring = \"nikhilhimanshu\"\nstring[5]= 'i'\nprint(string)\n",
      "metadata": {
        "trusted": true
      },
      "execution_count": 48,
      "outputs": [
        {
          "ename": "<class 'TypeError'>",
          "evalue": "'str' object does not support item assignment",
          "traceback": [
            "\u001b[0;31m---------------------------------------------------------------------------\u001b[0m",
            "\u001b[0;31mTypeError\u001b[0m                                 Traceback (most recent call last)",
            "Cell \u001b[0;32mIn[47], line 3\u001b[0m\n\u001b[1;32m      1\u001b[0m \u001b[38;5;66;03m#mutation and using join function in python. so string is an immutable data type in python so we have to convert it to list and thenmove ahead\u001b[39;00m\n\u001b[1;32m      2\u001b[0m string \u001b[38;5;241m=\u001b[39m \u001b[38;5;124m\"\u001b[39m\u001b[38;5;124mnikhilhimanshu\u001b[39m\u001b[38;5;124m\"\u001b[39m\n\u001b[0;32m----> 3\u001b[0m \u001b[43mstring\u001b[49m\u001b[43m[\u001b[49m\u001b[38;5;241;43m5\u001b[39;49m\u001b[43m]\u001b[49m\u001b[38;5;241m=\u001b[39m \u001b[38;5;124m'\u001b[39m\u001b[38;5;124mi\u001b[39m\u001b[38;5;124m'\u001b[39m\n\u001b[1;32m      4\u001b[0m \u001b[38;5;28mprint\u001b[39m(string)\n",
            "\u001b[0;31mTypeError\u001b[0m: 'str' object does not support item assignment"
          ],
          "output_type": "error"
        }
      ]
    },
    {
      "cell_type": "code",
      "source": "#string is immutatble\nstring = \"nikhilhimanshu\"\nl=list(string)\nl[5]='i'\nfor i in l:\n    print(i,end=\"\")\n",
      "metadata": {
        "trusted": true
      },
      "execution_count": 54,
      "outputs": [
        {
          "name": "stdout",
          "text": "nikhiihimanshu",
          "output_type": "stream"
        }
      ]
    },
    {
      "cell_type": "code",
      "source": "",
      "metadata": {},
      "execution_count": null,
      "outputs": []
    }
  ]
}