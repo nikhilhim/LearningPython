{
 "cells": [
  {
   "cell_type": "markdown",
   "id": "64f9639f-5576-4b20-adf8-8be4d59cc594",
   "metadata": {},
   "source": [
    "##LIST Learning"
   ]
  },
  {
   "cell_type": "code",
   "execution_count": 9,
   "id": "7f510c69-bca3-4567-a3ea-b4db446b87c6",
   "metadata": {},
   "outputs": [
    {
     "name": "stdout",
     "output_type": "stream",
     "text": [
      "3\n"
     ]
    }
   ],
   "source": [
    "#you can print the number using index\n",
    "numbers = [1,2,3,4]\n",
    "print(numbers[2])"
   ]
  },
  {
   "cell_type": "code",
   "execution_count": 11,
   "id": "fd7759e0-0915-43da-a2f8-0965bbe93641",
   "metadata": {},
   "outputs": [
    {
     "name": "stdout",
     "output_type": "stream",
     "text": [
      "[1, 2, 3, 4, 'words1']\n"
     ]
    }
   ],
   "source": [
    "#we can also use slicing to print the numbers \n",
    "#[start arg:stop arg:step arg]\n",
    "numbers = [1,2,3,4,\"words1\" , \"six\" ,2.3]\n",
    "print(numbers[:5])"
   ]
  },
  {
   "cell_type": "code",
   "execution_count": 19,
   "id": "465245fb-870c-4cfa-bacb-32e80afc8052",
   "metadata": {},
   "outputs": [
    {
     "name": "stdout",
     "output_type": "stream",
     "text": [
      "2.3\n"
     ]
    }
   ],
   "source": [
    "#starts from the last\n",
    "numbers = [1,2,3,4, \"words1\", \"six\",2.3]\n",
    "print(numbers[-1])"
   ]
  },
  {
   "cell_type": "code",
   "execution_count": 29,
   "id": "8cad7401-beb1-41c0-9047-888b3100fd16",
   "metadata": {},
   "outputs": [
    {
     "name": "stdout",
     "output_type": "stream",
     "text": [
      "[1, 'two', 3, 4, 'words1', 'six', 2.3]\n"
     ]
    }
   ],
   "source": [
    "# TIS WILL REPLACE THE list \n",
    "numbers = [1,2,3,4, \"words1\", \"six\",2.3]\n",
    "numbers[1]= 'two'\n",
    "print(numbers)"
   ]
  },
  {
   "cell_type": "code",
   "execution_count": 32,
   "id": "7889e742-5993-4a99-8ce4-1645e7d12988",
   "metadata": {},
   "outputs": [
    {
     "name": "stdout",
     "output_type": "stream",
     "text": [
      "[1, 2, 3, 4, 'words1', 'six', 2.3, 'one']\n"
     ]
    }
   ],
   "source": [
    "#append extend and insert is to add data in a list\n",
    "#always remember append will always add the value in the last\n",
    "numbers = [1,2,3,4, \"words1\", \"six\",2.3]\n",
    "numbers.append(\"one\")\n",
    "print(numbers)"
   ]
  },
  {
   "cell_type": "code",
   "execution_count": 36,
   "id": "c08d1bf4-80e6-4290-8a81-d545a51940d0",
   "metadata": {},
   "outputs": [
    {
     "name": "stdout",
     "output_type": "stream",
     "text": [
      "[1, 2, 3, 4, 'goat', 'words1', 'six', 2.3]\n"
     ]
    }
   ],
   "source": [
    "numbers = [1,2,3,4, \"words1\", \"six\",2.3]\n",
    "numbers.insert(4,\"goat\")\n",
    "print(numbers)"
   ]
  },
  {
   "cell_type": "code",
   "execution_count": 45,
   "id": "600cb521-3d25-4380-ae36-db3176d3c635",
   "metadata": {},
   "outputs": [
    {
     "name": "stdout",
     "output_type": "stream",
     "text": [
      "[1, 2, 3, 4, 'words1', 'six', 2.3, 'grapes', 'appke']\n"
     ]
    }
   ],
   "source": [
    "numbers = [1,2,3,4, \"words1\", \"six\",2.3]\n",
    "numbers1= ['grapes', 'appke']\n",
    "numbers.extend(numbers1)\n",
    "print(numbers)\n"
   ]
  },
  {
   "cell_type": "code",
   "execution_count": 49,
   "id": "63031b4b-71d0-4051-9651-ece9e11d1b62",
   "metadata": {},
   "outputs": [
    {
     "name": "stdout",
     "output_type": "stream",
     "text": [
      "[1, 2, 3, 4, 'words1', 'six', 2.3, ['grapes', 'apple']]\n"
     ]
    }
   ],
   "source": [
    "#list ke andar list store karna \n",
    "numbers = [1,2,3,4, \"words1\", \"six\",2.3]\n",
    "numbers1= ['grapes', 'apple']\n",
    "numbers.append(numbers1)\n",
    "print(numbers)"
   ]
  },
  {
   "cell_type": "code",
   "execution_count": 57,
   "id": "d9e4964b-1dd6-4b75-8f3b-afb51523e86b",
   "metadata": {},
   "outputs": [
    {
     "name": "stdout",
     "output_type": "stream",
     "text": [
      "['orange', 'apple', 'pears']\n"
     ]
    }
   ],
   "source": [
    "#how to delete in a list \n",
    "#remove del pop() is for deleting the data in the list\n",
    "\n",
    "fruits = ['orange', 'apple', 'kela', 'pears', 'chikoo']\n",
    "fruits.pop()\n",
    "#del fruits[0]\n",
    "fruits.remove('kela')\n",
    "print(fruits)\n"
   ]
  },
  {
   "cell_type": "code",
   "execution_count": 70,
   "id": "faee57c9-9cbf-47f9-aa4a-940644ca34aa",
   "metadata": {},
   "outputs": [
    {
     "name": "stdout",
     "output_type": "stream",
     "text": [
      "['apple', 'chikoo', 'guava', 'kela', 'orange', 'pears']\n"
     ]
    },
    {
     "data": {
      "text/plain": [
       "list"
      ]
     },
     "execution_count": 70,
     "metadata": {},
     "output_type": "execute_result"
    }
   ],
   "source": [
    "fruits = ['orange', 'apple', 'kela', 'pears', 'chikoo', 'guava']\n",
    "#print(fruits.count('orange'))\n",
    "fruits.sort()\n",
    "print(fruits)\n",
    "type(fruits)"
   ]
  },
  {
   "cell_type": "code",
   "execution_count": null,
   "id": "330bfa00-d7cd-4aaa-a90a-b55fc56a96bf",
   "metadata": {},
   "outputs": [],
   "source": [
    "#join converts list to string\n",
    "#split converts string to list\n",
    "name = "
   ]
  },
  {
   "cell_type": "code",
   "execution_count": null,
   "id": "37ac3a56-703a-4dda-b70b-60ba5dd5d9cb",
   "metadata": {},
   "outputs": [],
   "source": [
    "import os\n",
    "print(os.path)\n"
   ]
  },
  {
   "cell_type": "code",
   "execution_count": null,
   "id": "872c2cd2-fc4d-412a-b3d2-10b4bb059136",
   "metadata": {},
   "outputs": [],
   "source": []
  }
 ],
 "metadata": {
  "kernelspec": {
   "display_name": "Python 3 (ipykernel)",
   "language": "python",
   "name": "python3"
  },
  "language_info": {
   "codemirror_mode": {
    "name": "ipython",
    "version": 3
   },
   "file_extension": ".py",
   "mimetype": "text/x-python",
   "name": "python",
   "nbconvert_exporter": "python",
   "pygments_lexer": "ipython3",
   "version": "3.8.6rc1"
  }
 },
 "nbformat": 4,
 "nbformat_minor": 5
}
