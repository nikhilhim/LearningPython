{
 "cells": [
  {
   "cell_type": "markdown",
   "id": "e29add87-9a21-4645-b206-97a08053a054",
   "metadata": {},
   "source": [
    "####All about Lists###\n"
   ]
  },
  {
   "cell_type": "code",
   "execution_count": null,
   "id": "6b084960-3802-4f71-a12e-a6f95270e373",
   "metadata": {},
   "outputs": [],
   "source": [
    "numbers = [1,2,3,4]\n"
   ]
  },
  {
   "cell_type": "code",
   "execution_count": null,
   "id": "89ed5f98-eb40-458c-962d-4aeba637ccc1",
   "metadata": {},
   "outputs": [],
   "source": []
  },
  {
   "cell_type": "code",
   "execution_count": null,
   "id": "a8cddce2-7ee5-4597-81b4-ad3503d76721",
   "metadata": {},
   "outputs": [],
   "source": []
  },
  {
   "cell_type": "code",
   "execution_count": null,
   "id": "43a0f05e-c88f-4ac8-ae8c-c760a6534bc7",
   "metadata": {},
   "outputs": [],
   "source": []
  },
  {
   "cell_type": "code",
   "execution_count": null,
   "id": "a77d0281-1995-44ba-a7a3-96665ac19ea8",
   "metadata": {},
   "outputs": [],
   "source": []
  }
 ],
 "metadata": {
  "kernelspec": {
   "display_name": "Python 3 (ipykernel)",
   "language": "python",
   "name": "python3"
  },
  "language_info": {
   "codemirror_mode": {
    "name": "ipython",
    "version": 3
   },
   "file_extension": ".py",
   "mimetype": "text/x-python",
   "name": "python",
   "nbconvert_exporter": "python",
   "pygments_lexer": "ipython3",
   "version": "3.8.6rc1"
  }
 },
 "nbformat": 4,
 "nbformat_minor": 5
}
