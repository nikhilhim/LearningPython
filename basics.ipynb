{
 "cells": [
  {
   "cell_type": "markdown",
   "id": "e0257034-94bd-4589-8b56-332ffd329feb",
   "metadata": {},
   "source": [
    "# Learning python"
   ]
  },
  {
   "cell_type": "markdown",
   "id": "18f38ec5-7fca-49f3-9a4b-46149ab371a1",
   "metadata": {},
   "source": [
    "## range"
   ]
  },
  {
   "cell_type": "code",
   "execution_count": 5,
   "id": "73e5be6b-eb54-436d-82b5-02728617b1d1",
   "metadata": {},
   "outputs": [
    {
     "name": "stdout",
     "output_type": "stream",
     "text": [
      "hello world\n"
     ]
    }
   ],
   "source": [
    "print('hello world')"
   ]
  },
  {
   "cell_type": "code",
   "execution_count": 18,
   "id": "7811e144-36c0-4d3c-8300-c9d7cc54e597",
   "metadata": {},
   "outputs": [
    {
     "name": "stdout",
     "output_type": "stream",
     "text": [
      "2\n",
      "4\n"
     ]
    }
   ],
   "source": [
    "for i in range(2,6,2):\n",
    "    print(i)"
   ]
  },
  {
   "cell_type": "code",
   "execution_count": 10,
   "id": "cd05f035-e768-49fd-a654-1c9d3b1cca79",
   "metadata": {},
   "outputs": [],
   "source": [
    "l = [1,2,3,4]"
   ]
  },
  {
   "cell_type": "code",
   "execution_count": 14,
   "id": "8dd4f92a-f1a7-4bf4-a7a9-36e178306e45",
   "metadata": {},
   "outputs": [
    {
     "name": "stdout",
     "output_type": "stream",
     "text": [
      "range(0, 5)\n"
     ]
    }
   ],
   "source": [
    "print(range(5))"
   ]
  },
  {
   "cell_type": "code",
   "execution_count": 21,
   "id": "1ad4ae6a-1810-488c-a373-97999659c4e7",
   "metadata": {},
   "outputs": [
    {
     "name": "stdout",
     "output_type": "stream",
     "text": [
      "10\n",
      "9\n",
      "8\n",
      "7\n",
      "6\n",
      "5\n",
      "4\n",
      "3\n",
      "2\n"
     ]
    }
   ],
   "source": [
    "for i in range(10,1,-1):\n",
    "    print(i)"
   ]
  },
  {
   "cell_type": "code",
   "execution_count": 56,
   "id": "d58df740-23fa-4dc1-9471-cce1d3a81427",
   "metadata": {},
   "outputs": [],
   "source": [
    "l1 = [1,2,3,4,5]\n",
    "l2 = ['pari','nikhil','richa','neetu']"
   ]
  },
  {
   "cell_type": "code",
   "execution_count": 68,
   "id": "d8aa859b-ca54-42a3-8e32-77841b612b35",
   "metadata": {},
   "outputs": [
    {
     "name": "stdout",
     "output_type": "stream",
     "text": [
      "<zip object at 0x0000025B53C599C0>\n"
     ]
    }
   ],
   "source": [
    "zipped_var = zip(l1,l2)\n",
    "print(zipped_var)"
   ]
  },
  {
   "cell_type": "code",
   "execution_count": 58,
   "id": "6d8066f1-1d27-4422-bac4-360a3aa4c124",
   "metadata": {},
   "outputs": [
    {
     "name": "stdout",
     "output_type": "stream",
     "text": [
      "(1, 'pari')\n",
      "(2, 'nikhil')\n",
      "(3, 'richa')\n",
      "(4, 'neetu')\n"
     ]
    }
   ],
   "source": [
    "for i in zipped_var:\n",
    "    print(i)"
   ]
  },
  {
   "cell_type": "code",
   "execution_count": 59,
   "id": "54d7a961-7d9d-4ae6-8efb-28db738c3f4e",
   "metadata": {},
   "outputs": [
    {
     "data": {
      "text/plain": [
       "[]"
      ]
     },
     "execution_count": 59,
     "metadata": {},
     "output_type": "execute_result"
    }
   ],
   "source": [
    "[i for i in zipped_var]"
   ]
  },
  {
   "cell_type": "code",
   "execution_count": 48,
   "id": "f76abd43-9fc1-4c22-b8c2-e7fc5d3180d9",
   "metadata": {},
   "outputs": [
    {
     "name": "stdout",
     "output_type": "stream",
     "text": [
      "[(1, 'pari'), (2, 'nikhil'), (3, 'richa'), (4, 'neetu')]\n"
     ]
    }
   ],
   "source": []
  },
  {
   "cell_type": "code",
   "execution_count": 61,
   "id": "35dffdba-aca7-4c72-903a-e2b76d74a529",
   "metadata": {},
   "outputs": [],
   "source": [
    "a = range(10)"
   ]
  },
  {
   "cell_type": "code",
   "execution_count": 62,
   "id": "4a62ff9d-c7fc-4b6a-a8cd-f3c3c68aa5f4",
   "metadata": {},
   "outputs": [
    {
     "name": "stdout",
     "output_type": "stream",
     "text": [
      "0\n",
      "1\n",
      "2\n",
      "3\n",
      "4\n",
      "5\n",
      "6\n",
      "7\n",
      "8\n",
      "9\n"
     ]
    }
   ],
   "source": [
    "for i in a:\n",
    "    print(i)"
   ]
  },
  {
   "cell_type": "code",
   "execution_count": 63,
   "id": "9f4ea78b-b9b9-4d6d-8394-b853d1e9030c",
   "metadata": {},
   "outputs": [
    {
     "name": "stdout",
     "output_type": "stream",
     "text": [
      "0\n",
      "1\n",
      "2\n",
      "3\n",
      "4\n",
      "5\n",
      "6\n",
      "7\n",
      "8\n",
      "9\n"
     ]
    }
   ],
   "source": [
    "for i in a:\n",
    "    print(i)"
   ]
  },
  {
   "cell_type": "code",
   "execution_count": 64,
   "id": "c2b3176e-5e19-46d8-9243-e31d30253dc0",
   "metadata": {},
   "outputs": [
    {
     "data": {
      "text/plain": [
       "range"
      ]
     },
     "execution_count": 64,
     "metadata": {},
     "output_type": "execute_result"
    }
   ],
   "source": [
    "type(a)"
   ]
  },
  {
   "cell_type": "code",
   "execution_count": 65,
   "id": "1bd584b1-adc3-4157-9655-ecea5eaea5a6",
   "metadata": {},
   "outputs": [
    {
     "data": {
      "text/plain": [
       "type"
      ]
     },
     "execution_count": 65,
     "metadata": {},
     "output_type": "execute_result"
    }
   ],
   "source": [
    "type(range)"
   ]
  },
  {
   "cell_type": "code",
   "execution_count": 66,
   "id": "179a616f-a440-4fb5-82e1-f348ea272423",
   "metadata": {},
   "outputs": [
    {
     "data": {
      "text/plain": [
       "type"
      ]
     },
     "execution_count": 66,
     "metadata": {},
     "output_type": "execute_result"
    }
   ],
   "source": [
    "type(zip)"
   ]
  },
  {
   "cell_type": "code",
   "execution_count": 69,
   "id": "e24eb3c8-ffd5-437e-846f-1c967423495d",
   "metadata": {},
   "outputs": [
    {
     "name": "stdout",
     "output_type": "stream",
     "text": [
      "range(0, 5)\n"
     ]
    }
   ],
   "source": [
    "print(range(0,5))"
   ]
  },
  {
   "cell_type": "code",
   "execution_count": 70,
   "id": "6a8c0a8c-9a75-4301-9a22-3b0866a3c9eb",
   "metadata": {},
   "outputs": [],
   "source": [
    "list = [1,3,5,6]"
   ]
  },
  {
   "cell_type": "code",
   "execution_count": 77,
   "id": "963ba494-9ad0-44bf-afdd-b9a3fb656dc5",
   "metadata": {},
   "outputs": [
    {
     "data": {
      "text/plain": [
       "2591271113168"
      ]
     },
     "execution_count": 77,
     "metadata": {},
     "output_type": "execute_result"
    }
   ],
   "source": [
    "a = (1,2,3,4)\n",
    "id(a)"
   ]
  },
  {
   "cell_type": "code",
   "execution_count": 78,
   "id": "5e11d477-49aa-4cee-900e-22582f16e94f",
   "metadata": {},
   "outputs": [],
   "source": [
    "a = (1,2)"
   ]
  },
  {
   "cell_type": "code",
   "execution_count": 79,
   "id": "bda08ab7-fb3d-47a7-b940-74ceb8279e8b",
   "metadata": {},
   "outputs": [
    {
     "data": {
      "text/plain": [
       "2591267353792"
      ]
     },
     "execution_count": 79,
     "metadata": {},
     "output_type": "execute_result"
    }
   ],
   "source": [
    "id(a)"
   ]
  },
  {
   "cell_type": "code",
   "execution_count": 80,
   "id": "0c115cad-d585-451a-8d8e-a6fc5fb87ea6",
   "metadata": {},
   "outputs": [
    {
     "data": {
      "text/plain": [
       "2591270944128"
      ]
     },
     "execution_count": 80,
     "metadata": {},
     "output_type": "execute_result"
    }
   ],
   "source": [
    "a = [1,2,3,4]\n",
    "id(a)"
   ]
  },
  {
   "cell_type": "code",
   "execution_count": 81,
   "id": "a94f3103-b4d3-48af-a5f6-a084ddd0dcdb",
   "metadata": {},
   "outputs": [],
   "source": [
    "a.append(111)"
   ]
  },
  {
   "cell_type": "code",
   "execution_count": 82,
   "id": "6b787299-7693-4c8e-b457-52e1f8c9bc81",
   "metadata": {},
   "outputs": [
    {
     "data": {
      "text/plain": [
       "2591270944128"
      ]
     },
     "execution_count": 82,
     "metadata": {},
     "output_type": "execute_result"
    }
   ],
   "source": [
    "id(a)"
   ]
  },
  {
   "cell_type": "code",
   "execution_count": 83,
   "id": "0eabe5d2-c337-4f37-a320-9e08916c767a",
   "metadata": {},
   "outputs": [],
   "source": [
    "a = \"aaaaaaaaaaaaaaa\""
   ]
  },
  {
   "cell_type": "code",
   "execution_count": 84,
   "id": "163431a6-d1ca-4df6-a980-29ae73aee350",
   "metadata": {},
   "outputs": [
    {
     "data": {
      "text/plain": [
       "2591270635056"
      ]
     },
     "execution_count": 84,
     "metadata": {},
     "output_type": "execute_result"
    }
   ],
   "source": [
    "id(a)"
   ]
  },
  {
   "cell_type": "code",
   "execution_count": 86,
   "id": "dc446324-a5c6-4854-8d60-ac5dae8e2c9a",
   "metadata": {},
   "outputs": [],
   "source": [
    "a = a + 'zzzzzzzzzzzzz'"
   ]
  },
  {
   "cell_type": "code",
   "execution_count": 87,
   "id": "b3d31bf5-fc27-4351-bad9-c4b73e810b4e",
   "metadata": {},
   "outputs": [
    {
     "data": {
      "text/plain": [
       "2591271114032"
      ]
     },
     "execution_count": 87,
     "metadata": {},
     "output_type": "execute_result"
    }
   ],
   "source": [
    "id(a)"
   ]
  },
  {
   "cell_type": "code",
   "execution_count": 88,
   "id": "1237ab5e-730a-4f01-a77d-44b450307b08",
   "metadata": {},
   "outputs": [
    {
     "data": {
      "text/plain": [
       "2591270876992"
      ]
     },
     "execution_count": 88,
     "metadata": {},
     "output_type": "execute_result"
    }
   ],
   "source": [
    "a = {1,2,3}\n",
    "id(a)\n",
    "\n"
   ]
  },
  {
   "cell_type": "code",
   "execution_count": 90,
   "id": "aa56eb44-037f-4ad7-9b63-fca365f34664",
   "metadata": {},
   "outputs": [],
   "source": [
    "a.add(111)"
   ]
  },
  {
   "cell_type": "code",
   "execution_count": 91,
   "id": "39369c55-b15a-4e19-907c-bf546d5ffd2d",
   "metadata": {},
   "outputs": [
    {
     "data": {
      "text/plain": [
       "2591270876992"
      ]
     },
     "execution_count": 91,
     "metadata": {},
     "output_type": "execute_result"
    }
   ],
   "source": [
    "id(a)"
   ]
  },
  {
   "cell_type": "code",
   "execution_count": 92,
   "id": "33202c22-583c-4566-ab01-47ed0f4c6e3f",
   "metadata": {},
   "outputs": [
    {
     "data": {
      "text/plain": [
       "{1, 2, 3, 111}"
      ]
     },
     "execution_count": 92,
     "metadata": {},
     "output_type": "execute_result"
    }
   ],
   "source": [
    "a"
   ]
  },
  {
   "cell_type": "code",
   "execution_count": 104,
   "id": "619c79f5-d980-4467-9c93-3b5dceb49136",
   "metadata": {},
   "outputs": [
    {
     "name": "stdout",
     "output_type": "stream",
     "text": [
      "{'1': 'nik', '2': 'ric', 4: [1, 2, 3, 4]}\n"
     ]
    }
   ],
   "source": [
    "\n",
    "dict1 ={'1':'nik','2': 'ric',4:[1,2,3,4]}\n",
    "print(dict1)"
   ]
  },
  {
   "cell_type": "code",
   "execution_count": 96,
   "id": "e86b02df-ca39-457d-b592-ca0fe5af8f45",
   "metadata": {},
   "outputs": [
    {
     "data": {
      "text/plain": [
       "2591271509824"
      ]
     },
     "execution_count": 96,
     "metadata": {},
     "output_type": "execute_result"
    }
   ],
   "source": [
    "id(dict1)"
   ]
  },
  {
   "cell_type": "code",
   "execution_count": 101,
   "id": "c6dbb5d4-6ae0-4dd7-b74f-9d887f1b9f38",
   "metadata": {},
   "outputs": [],
   "source": [
    "dict1[3] = 'aaaaa'"
   ]
  },
  {
   "cell_type": "code",
   "execution_count": 102,
   "id": "f9aa36b2-0560-4622-a860-86a3e3f4d95c",
   "metadata": {},
   "outputs": [
    {
     "data": {
      "text/plain": [
       "{'1': 'nik', '2': 'ric', 3: 'aaaaa'}"
      ]
     },
     "execution_count": 102,
     "metadata": {},
     "output_type": "execute_result"
    }
   ],
   "source": [
    "dict1"
   ]
  },
  {
   "cell_type": "code",
   "execution_count": 105,
   "id": "dd2a11a7-62a5-4f30-8074-5e99e84fca38",
   "metadata": {},
   "outputs": [],
   "source": [
    "dict1[4].append(5)"
   ]
  },
  {
   "cell_type": "code",
   "execution_count": 106,
   "id": "fe7cbc37-8609-4cac-b107-45ba83b089f9",
   "metadata": {},
   "outputs": [
    {
     "data": {
      "text/plain": [
       "{'1': 'nik', '2': 'ric', 4: [1, 2, 3, 4, 5]}"
      ]
     },
     "execution_count": 106,
     "metadata": {},
     "output_type": "execute_result"
    }
   ],
   "source": [
    "dict1"
   ]
  },
  {
   "cell_type": "code",
   "execution_count": 107,
   "id": "d32de66e-989e-43e3-9fe2-6c7909e7083b",
   "metadata": {},
   "outputs": [
    {
     "ename": "TypeError",
     "evalue": "unhashable type: 'list'",
     "output_type": "error",
     "traceback": [
      "\u001b[1;31m---------------------------------------------------------------------------\u001b[0m",
      "\u001b[1;31mTypeError\u001b[0m                                 Traceback (most recent call last)",
      "Cell \u001b[1;32mIn[107], line 1\u001b[0m\n\u001b[1;32m----> 1\u001b[0m dict1 \u001b[38;5;241m=\u001b[39m{\u001b[38;5;124m'\u001b[39m\u001b[38;5;124m1\u001b[39m\u001b[38;5;124m'\u001b[39m:\u001b[38;5;124m'\u001b[39m\u001b[38;5;124mnik\u001b[39m\u001b[38;5;124m'\u001b[39m,\u001b[38;5;124m'\u001b[39m\u001b[38;5;124m2\u001b[39m\u001b[38;5;124m'\u001b[39m: \u001b[38;5;124m'\u001b[39m\u001b[38;5;124mric\u001b[39m\u001b[38;5;124m'\u001b[39m,\u001b[38;5;241m4\u001b[39m:[\u001b[38;5;241m1\u001b[39m,\u001b[38;5;241m2\u001b[39m,\u001b[38;5;241m3\u001b[39m,\u001b[38;5;241m4\u001b[39m],[\u001b[38;5;241m12\u001b[39m]:[\u001b[38;5;241m1\u001b[39m,\u001b[38;5;241m234\u001b[39m]}\n",
      "\u001b[1;31mTypeError\u001b[0m: unhashable type: 'list'"
     ]
    }
   ],
   "source": [
    "dict1 ={'1':'nik','2': 'ric',4:[1,2,3,4],[12]:[1,234]}\n"
   ]
  },
  {
   "cell_type": "markdown",
   "id": "7c2a845f-dfe6-4da4-89e2-c2e8d31c89f5",
   "metadata": {},
   "source": [
    "Above we can see that we can not pass mutable item in dictionary key"
   ]
  },
  {
   "cell_type": "code",
   "execution_count": null,
   "id": "7d43757a-bbef-477e-8a0b-d3cdf0acdbe6",
   "metadata": {},
   "outputs": [],
   "source": []
  }
 ],
 "metadata": {
  "kernelspec": {
   "display_name": "Python 3 (ipykernel)",
   "language": "python",
   "name": "python3"
  },
  "language_info": {
   "codemirror_mode": {
    "name": "ipython",
    "version": 3
   },
   "file_extension": ".py",
   "mimetype": "text/x-python",
   "name": "python",
   "nbconvert_exporter": "python",
   "pygments_lexer": "ipython3",
   "version": "3.8.6rc1"
  }
 },
 "nbformat": 4,
 "nbformat_minor": 5
}
