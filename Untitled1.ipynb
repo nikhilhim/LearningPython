{
 "cells": [
  {
   "cell_type": "code",
   "execution_count": null,
   "id": "f73826ac-492e-46a0-acbe-be637e00c2e3",
   "metadata": {},
   "outputs": [],
   "source": [
    "\n",
    "\n"
   ]
  },
  {
   "cell_type": "code",
   "execution_count": 24,
   "id": "303dee27-2bbb-4df0-8242-99060d1afa70",
   "metadata": {},
   "outputs": [
    {
     "name": "stdout",
     "output_type": "stream",
     "text": [
      "2\n"
     ]
    }
   ],
   "source": [
    "#you can print the number using the index\n",
    "numbers = [1,2,3,4]\n",
    "print(numbers[1])"
   ]
  },
  {
   "cell_type": "code",
   "execution_count": 25,
   "id": "5647ea1b-aebf-4e8c-a028-05b0425b01a9",
   "metadata": {},
   "outputs": [
    {
     "name": "stdout",
     "output_type": "stream",
     "text": [
      "[1, 2, 3, 4, 'words1']\n"
     ]
    }
   ],
   "source": [
    "#we can also use slicing to print the numbers \n",
    "#[start arg:stop arg:step arg]\n",
    "numbers = [1,2,3,4, \"words1\", \"six\",2.3]\n",
    "print(numbers[:5])"
   ]
  },
  {
   "cell_type": "code",
   "execution_count": 26,
   "id": "128ce710-c63d-4ec1-a7a2-74968a43c0d0",
   "metadata": {},
   "outputs": [
    {
     "name": "stdout",
     "output_type": "stream",
     "text": [
      "2.3\n"
     ]
    }
   ],
   "source": [
    "#starts from the last\n",
    "numbers = [1,2,3,4, \"words1\", \"six\",2.3]\n",
    "print(numbers[-1])"
   ]
  },
  {
   "cell_type": "code",
   "execution_count": 6,
   "id": "41988ff1-11e2-4420-81ad-696adbb8c2ea",
   "metadata": {},
   "outputs": [
    {
     "name": "stdout",
     "output_type": "stream",
     "text": [
      "[1, 'two', 3, 4, 'words1', 'six', 2.3]\n"
     ]
    }
   ],
   "source": [
    "# ThIS WILL REPLACE THE list \n",
    "numbers = [1,2,3,4, \"words1\", \"six\",2.3]\n",
    "numbers[1]= 'two'\n",
    "print(numbers)"
   ]
  },
  {
   "cell_type": "code",
   "execution_count": 5,
   "id": "15ea6140-35b2-425f-b7ea-9fcb15311a6d",
   "metadata": {},
   "outputs": [
    {
     "data": {
      "text/plain": [
       "2210725193920"
      ]
     },
     "execution_count": 5,
     "metadata": {},
     "output_type": "execute_result"
    }
   ],
   "source": [
    "id(numbers)"
   ]
  },
  {
   "cell_type": "code",
   "execution_count": 7,
   "id": "ecc52b5b-5172-4286-a525-c535f5e666ff",
   "metadata": {},
   "outputs": [
    {
     "name": "stdout",
     "output_type": "stream",
     "text": [
      "[1, 2, 3, 4, 'words1', 'six', 2.3, 'one']\n"
     ]
    }
   ],
   "source": [
    "#append extend and insert is to add data in a list\n",
    "#always remember append will always add the value in the last\n",
    "numbers = [1,2,3,4, \"words1\", \"six\",2.3]\n",
    "numbers.append(\"one\")\n",
    "print(numbers)"
   ]
  },
  {
   "cell_type": "code",
   "execution_count": 8,
   "id": "6ace8c10-9dca-453d-837c-54cab9b90f7d",
   "metadata": {},
   "outputs": [
    {
     "name": "stdout",
     "output_type": "stream",
     "text": [
      "[1, 2, 3, 4, 'goat', 'words1', 'six', 2.3]\n"
     ]
    }
   ],
   "source": [
    "#if you want to insert any value at random place in a cell we can use insert command\n",
    "numbers = [1,2,3,4, \"words1\", \"six\",2.3]\n",
    "numbers.insert(4,\"goat\")\n",
    "print(numbers)"
   ]
  },
  {
   "cell_type": "code",
   "execution_count": 10,
   "id": "12554fa1-ac32-4a85-8fb3-6450624755df",
   "metadata": {},
   "outputs": [
    {
     "name": "stdout",
     "output_type": "stream",
     "text": [
      "[1, 2, 3, 4, 'words1', 'six', 2.3, 'grapes', 'apple']\n"
     ]
    }
   ],
   "source": [
    "#numbers me numbers1 will be added \n",
    "numbers = [1,2,3,4, \"words1\", \"six\",2.3]\n",
    "numbers1= ['grapes', 'apple']\n",
    "numbers.extend(numbers1)\n",
    "print(numbers)"
   ]
  },
  {
   "cell_type": "code",
   "execution_count": 14,
   "id": "60314703-e1eb-4c91-b55a-f44944b616f2",
   "metadata": {},
   "outputs": [
    {
     "name": "stdout",
     "output_type": "stream",
     "text": [
      "[1, 2, 3, 4, 'words1', 'six', 2.3, ['grapes', 'apple']]\n"
     ]
    }
   ],
   "source": [
    "#it added the list as it in in the merged list \n",
    "numbers = [1,2,3,4, \"words1\", \"six\",2.3]\n",
    "numbers1= ['grapes', 'apple']\n",
    "numbers.append(numbers1)\n",
    "print(numbers)"
   ]
  },
  {
   "cell_type": "code",
   "execution_count": 15,
   "id": "000016f5-7f8f-41d7-8728-9f71e2a000fd",
   "metadata": {},
   "outputs": [
    {
     "name": "stdout",
     "output_type": "stream",
     "text": [
      "['orange', 'apple', 'pears']\n"
     ]
    }
   ],
   "source": [
    "#how to delete in a list \n",
    "#remove del pop() is for deleting the data in the list\n",
    "\n",
    "fruits = ['orange', 'apple', 'kela', 'pears', 'chikoo']\n",
    "fruits.pop()\n",
    "#del fruits[0]\n",
    "fruits.remove('kela')\n",
    "print(fruits)"
   ]
  },
  {
   "cell_type": "code",
   "execution_count": 19,
   "id": "2f0b9a67-e5dd-4964-94be-8309f80d4d5f",
   "metadata": {},
   "outputs": [
    {
     "name": "stdout",
     "output_type": "stream",
     "text": [
      "['apple', 'chikoo', 'guava', 'kela', 'orange', 'pears']\n"
     ]
    },
    {
     "data": {
      "text/plain": [
       "list"
      ]
     },
     "execution_count": 19,
     "metadata": {},
     "output_type": "execute_result"
    }
   ],
   "source": [
    "fruits = ['orange', 'apple', 'kela', 'pears', 'chikoo', 'guava']\n",
    "#print(fruits.count('orange'))\n",
    "fruits.sort()\n",
    "print(fruits)\n",
    "type(fruits)"
   ]
  },
  {
   "cell_type": "code",
   "execution_count": 20,
   "id": "af957388-a20a-4925-93e1-2d29c9254a6b",
   "metadata": {},
   "outputs": [
    {
     "name": "stdout",
     "output_type": "stream",
     "text": [
      "['apple', 'banana', 'cherry#orange']\n"
     ]
    }
   ],
   "source": [
    "#join converts list to string\n",
    "#split converts string to list\n",
    "# setting the maxsplit parameter to 1, will return a list with 2 elements!\n",
    "txt = \"apple#banana#cherry#orange\"\n",
    "x = txt.split(\"#\", 2)\n",
    "print(x)"
   ]
  },
  {
   "cell_type": "code",
   "execution_count": 21,
   "id": "8341cd97-3306-43ad-b0cd-dce013ae508b",
   "metadata": {},
   "outputs": [
    {
     "name": "stdout",
     "output_type": "stream",
     "text": [
      "38.0\n",
      "6.333333333333333\n"
     ]
    }
   ],
   "source": [
    "a = 19\n",
    "b= 8\n",
    "print(a//0.5)\n",
    "print(a/3)"
   ]
  },
  {
   "cell_type": "code",
   "execution_count": 22,
   "id": "43667b39-ce74-4335-9e9a-8d9953189ca9",
   "metadata": {},
   "outputs": [
    {
     "name": "stdout",
     "output_type": "stream",
     "text": [
      "0\n",
      "1\n",
      "4\n",
      "9\n",
      "16\n"
     ]
    }
   ],
   "source": [
    "#hard coded so test cases were not passing in hacker rank\n",
    "for i in range(0,5):\n",
    "    print(i*i)"
   ]
  },
  {
   "cell_type": "code",
   "execution_count": 23,
   "id": "b324dd27-9ce9-4c31-8723-cbd9b35cda1c",
   "metadata": {},
   "outputs": [
    {
     "name": "stdin",
     "output_type": "stream",
     "text": [
      " 3\n"
     ]
    },
    {
     "name": "stdout",
     "output_type": "stream",
     "text": [
      "0\n",
      "1\n",
      "4\n",
      "9\n"
     ]
    }
   ],
   "source": [
    "#wen we passed the value as x then code ran\n",
    "x= int(input())\n",
    "for i in range(0,x+1):\n",
    "   print(i*i)"
   ]
  },
  {
   "cell_type": "code",
   "execution_count": null,
   "id": "7da944e3-9ce5-4211-a257-1700cdbf6f9f",
   "metadata": {},
   "outputs": [],
   "source": []
  }
 ],
 "metadata": {
  "kernelspec": {
   "display_name": "Python 3 (ipykernel)",
   "language": "python",
   "name": "python3"
  },
  "language_info": {
   "codemirror_mode": {
    "name": "ipython",
    "version": 3
   },
   "file_extension": ".py",
   "mimetype": "text/x-python",
   "name": "python",
   "nbconvert_exporter": "python",
   "pygments_lexer": "ipython3",
   "version": "3.8.6rc1"
  }
 },
 "nbformat": 4,
 "nbformat_minor": 5
}
